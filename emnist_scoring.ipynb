{
 "cells": [
  {
   "cell_type": "code",
   "execution_count": null,
   "metadata": {},
   "outputs": [],
   "source": [
    "import numpy as np\n",
    "import pandas as pd\n",
    "\n",
    "from pyspark.ml.image import ImageSchema\n",
    "\n",
    "from pyspark.ml.classification import MultilayerPerceptronClassifier,MultilayerPerceptronClassificationModel\n",
    "from pyspark.ml.evaluation import MulticlassClassificationEvaluator\n",
    "\n",
    "from pyspark.ml.linalg import Vectors\n",
    "from pyspark.ml.feature import VectorAssembler"
   ]
  },
  {
   "cell_type": "code",
   "execution_count": null,
   "metadata": {},
   "outputs": [],
   "source": [
    "img_dir = 'dbfs:/mnt/<任意のディレクトリ名>'\n",
    "\n",
    "image_df = ImageSchema.readImages(img_dir)\n",
    "\n",
    "display(image_df) \n",
    "\n",
    "image_row = image_df.collect()[0]\n",
    "image_array = ImageSchema.toNDArray(image_row.image)"
   ]
  },
  {
   "cell_type": "code",
   "execution_count": null,
   "metadata": {},
   "outputs": [],
   "source": [
    "image_array = np.rot90(image_array, k=1)\n",
    "image_array = image_array[::-1]\n",
    "\n",
    "ary =[]\n",
    "for k in range(280):\n",
    "  bbb = []\n",
    "  for i in range(28):\n",
    "    aaa = 0\n",
    "    for j in range(10):\n",
    "      aaa += image_array[k][10*i+j][0]\n",
    "    bbb.append(int(aaa/10))\n",
    "  ary.append(bbb)\n",
    "\n",
    "ary2 = []\n",
    "for k in range(28):\n",
    "  ccc = []\n",
    "  for i in range(28):\n",
    "    aaa = 0\n",
    "    for j in range(10):\n",
    "      aaa += ary[10*k+j][i]\n",
    "    ccc.append(int(aaa/10))\n",
    "  ary2.append(ccc)\n",
    "\n",
    "im = []\n",
    "for i in range(28):\n",
    "  m = []\n",
    "  for j in range(28):\n",
    "    m = 255-ary2[i][j]\n",
    "    im.append(m)\n",
    "im = [im]"
   ]
  },
  {
   "cell_type": "code",
   "execution_count": null,
   "metadata": {},
   "outputs": [],
   "source": [
    "def open_csv(path):\n",
    "\n",
    "  d = spark.read.format(\"csv\")\\\n",
    "    .option(\"header\",\"false\")\\\n",
    "    .option(\"inferSchema\",\"true\")\\\n",
    "    .load(path)\n",
    "\n",
    "  return d\n",
    "\n",
    "test_csv = open_csv(\"dbfs:/FileStore/tables/emnist_balanced_test-dc5d0.csv\")\n",
    "\n",
    "col = test_csv.columns[1:]\n",
    "\n",
    "pdf = pd.DataFrame(im, columns=col)\n",
    "spark.conf.set(\"spark.sql.execution.arrow.enabled\", \"true\")\n",
    "df = spark.createDataFrame(pdf)\n",
    "\n",
    "assembler = VectorAssembler(inputCols=df.columns,outputCol=\"features\")\n",
    "data = assembler.transform(df)"
   ]
  },
  {
   "cell_type": "code",
   "execution_count": null,
   "metadata": {},
   "outputs": [],
   "source": [
    "mp_model = MultilayerPerceptronClassificationModel.load(\"/MPmodel\")\n",
    "result = mp_model.transform(data)"
   ]
  },
  {
   "cell_type": "code",
   "execution_count": null,
   "metadata": {},
   "outputs": [],
   "source": [
    "ans =[\"0\",\"1\",\"2\",\"3\",\"4\",\"5\",\"6\",\"7\",\"8\",\"9\",\"A\",\"B\",\"C\",\"D\",\"E\",\"F\",\"G\",\"H\",\"I\",\"J\",\"K\",\"L\",\"M\",\"N\",\"O\",\"P\",\"Q\",\"R\",\"S\",\"T\",\"U\",\"V\",\"W\",\"X\",\"Y\",\"Z\",\"a\",\"b\",\"d\",\"e\",\"f\",\"g\",\"h\",\"n\",\"q\",\"r\",\"t\"]\n",
    "pre = result.select(\"prediction\").rdd.flatMap(lambda x: x).collect()\n",
    "pre = int(pre[0])\n",
    "print(ans[pre])"
   ]
  },
  {
   "cell_type": "code",
   "execution_count": null,
   "metadata": {},
   "outputs": [],
   "source": [
    "dbutils.notebook.exit(ans[pre])"
   ]
  }
 ],
 "metadata": {
  "kernelspec": {
   "display_name": "Python 3",
   "language": "python",
   "name": "python3"
  },
  "language_info": {
   "codemirror_mode": {
    "name": "ipython",
    "version": 3
   },
   "file_extension": ".py",
   "mimetype": "text/x-python",
   "name": "python",
   "nbconvert_exporter": "python",
   "pygments_lexer": "ipython3",
   "version": "3.6.5"
  }
 },
 "nbformat": 4,
 "nbformat_minor": 2
}
